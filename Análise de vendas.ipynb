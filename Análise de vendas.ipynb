{
 "cells": [
  {
   "cell_type": "code",
   "execution_count": 20,
   "id": "7f917ca7",
   "metadata": {
    "scrolled": true
   },
   "outputs": [
    {
     "data": {
      "text/plain": [
       "UF\n",
       "AC       31\n",
       "AL      373\n",
       "AM      124\n",
       "AP       42\n",
       "BA     3411\n",
       "CE      782\n",
       "DF     1496\n",
       "ES     1415\n",
       "EX        1\n",
       "GO     1802\n",
       "MA      416\n",
       "MG     8807\n",
       "MS      528\n",
       "MT      597\n",
       "PA      409\n",
       "PB      301\n",
       "PE     1203\n",
       "PI      274\n",
       "PR     3787\n",
       "RJ     7040\n",
       "RN      369\n",
       "RO      137\n",
       "RR       13\n",
       "RS     3356\n",
       "SC     2124\n",
       "SE      267\n",
       "SP    20759\n",
       "TO      120\n",
       "UF        1\n",
       "dtype: int64"
      ]
     },
     "metadata": {},
     "output_type": "display_data"
    }
   ],
   "source": [
    "import pandas as pd\n",
    "import matplotlib.pyplot as plt\n",
    "\n",
    "gas = pd.read_excel(r'C:\\Users\\User\\Desktop\\Trabalho\\Python\\Analise agosto 2022.xlsx',sheet_name=\"Base Real\",usecols=\"W\")\n",
    "df = pd.DataFrame(gas)\n",
    "df.rename(columns={\"Unnamed: 22\": 'UF'}, inplace = True)\n",
    "\n",
    "occur = df.groupby(['UF']).size()\n",
    "display(occur)\n"
   ]
  },
  {
   "cell_type": "code",
   "execution_count": null,
   "id": "c05991ca",
   "metadata": {},
   "outputs": [],
   "source": []
  }
 ],
 "metadata": {
  "kernelspec": {
   "display_name": "Python 3",
   "language": "python",
   "name": "python3"
  },
  "language_info": {
   "codemirror_mode": {
    "name": "ipython",
    "version": 3
   },
   "file_extension": ".py",
   "mimetype": "text/x-python",
   "name": "python",
   "nbconvert_exporter": "python",
   "pygments_lexer": "ipython3",
   "version": "3.8.8"
  }
 },
 "nbformat": 4,
 "nbformat_minor": 5
}
